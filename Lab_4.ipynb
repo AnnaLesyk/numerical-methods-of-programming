{
  "nbformat": 4,
  "nbformat_minor": 0,
  "metadata": {
    "colab": {
      "provenance": [],
      "authorship_tag": "ABX9TyMwFmMHWw7ImYf0Bi64FVex",
      "include_colab_link": true
    },
    "kernelspec": {
      "name": "python3",
      "display_name": "Python 3"
    },
    "language_info": {
      "name": "python"
    }
  },
  "cells": [
    {
      "cell_type": "markdown",
      "metadata": {
        "id": "view-in-github",
        "colab_type": "text"
      },
      "source": [
        "<a href=\"https://colab.research.google.com/github/AnnaLesyk/numerical-methods-of-programming/blob/main/Lab_4.ipynb\" target=\"_parent\"><img src=\"https://colab.research.google.com/assets/colab-badge.svg\" alt=\"Open In Colab\"/></a>"
      ]
    },
    {
      "cell_type": "markdown",
      "source": [
        "Лабораторна робота №4\n",
        "Виконала студентка ФІТ 3-14\n",
        "Лесик Анна"
      ],
      "metadata": {
        "id": "Nn_tgUMQtxnG"
      }
    },
    {
      "cell_type": "code",
      "source": [
        "import numpy as np\n",
        "# 1)\n",
        "\n",
        "a = np.array([[2,3,1],[-1,1,0],[1,2,-1]])\n",
        "print (\"matrix a:\")\n",
        "print ( a)\n",
        "b = np.array([[1,2,1],[0,1,2],[3,1,1]])\n",
        "print (\"matrix b:\")\n",
        "print ( b)\n",
        "\n",
        "ab = a.dot(b)\n",
        "print(\"matrix ab\", ab)\n",
        "\n",
        "ba = b.dot(a)\n",
        "print(\"matrix ba\", ba)\n",
        "\n",
        "c = ab - ba\n",
        "print (\"matrix c :\")\n",
        "print ( c)"
      ],
      "metadata": {
        "id": "4wjNOwP4H-JA",
        "colab": {
          "base_uri": "https://localhost:8080/"
        },
        "outputId": "7f89a385-b158-46d4-a8c7-d2096e32f361"
      },
      "execution_count": null,
      "outputs": [
        {
          "output_type": "stream",
          "name": "stdout",
          "text": [
            "matrix a:\n",
            "[[ 2  3  1]\n",
            " [-1  1  0]\n",
            " [ 1  2 -1]]\n",
            "matrix b:\n",
            "[[1 2 1]\n",
            " [0 1 2]\n",
            " [3 1 1]]\n",
            "matrix ab [[ 5  8  9]\n",
            " [-1 -1  1]\n",
            " [-2  3  4]]\n",
            "matrix ba [[ 1  7  0]\n",
            " [ 1  5 -2]\n",
            " [ 6 12  2]]\n",
            "matrix c :\n",
            "[[ 4  1  9]\n",
            " [-2 -6  3]\n",
            " [-8 -9  2]]\n"
          ]
        }
      ]
    },
    {
      "cell_type": "code",
      "source": [
        "import numpy as np\n",
        "# 2) x *x\n",
        "\n",
        "x = np.array([[-1,0,2],[0,1,0],[1,2,-1]])\n",
        "x_2 = x.dot(x)\n",
        "print (\"array x:\", x)\n",
        "print (\"array x_2:\", x_2)"
      ],
      "metadata": {
        "id": "WI1bMSGOID9e",
        "colab": {
          "base_uri": "https://localhost:8080/"
        },
        "outputId": "a61f8ae5-a23a-4684-9a5a-7a07ca33b48a"
      },
      "execution_count": null,
      "outputs": [
        {
          "output_type": "stream",
          "name": "stdout",
          "text": [
            "array x: [[-1  0  2]\n",
            " [ 0  1  0]\n",
            " [ 1  2 -1]]\n",
            "array x_2: [[ 3  4 -4]\n",
            " [ 0  1  0]\n",
            " [-2  0  3]]\n"
          ]
        }
      ]
    },
    {
      "cell_type": "code",
      "source": [
        "import numpy as np\n",
        "# 3) c = a * b\n",
        "a = np.array([[3,0,7],[-4,2,3],[-1,1,2]])\n",
        "print (\"matrix a:\")\n",
        "print ( a)\n",
        "b = np.array([[1],[2],[4]])\n",
        "print (\"matrix b:\")\n",
        "print ( b)\n",
        "\n",
        "ab = a.dot(b)\n",
        "print(\"matrix ab\")\n",
        "print (ab)\n",
        "\n"
      ],
      "metadata": {
        "id": "3r1viB_bIDqo",
        "colab": {
          "base_uri": "https://localhost:8080/"
        },
        "outputId": "1e14d199-dea5-4148-d96e-b3fb2d6ffdcb"
      },
      "execution_count": null,
      "outputs": [
        {
          "output_type": "stream",
          "name": "stdout",
          "text": [
            "matrix a:\n",
            "[[ 3  0  7]\n",
            " [-4  2  3]\n",
            " [-1  1  2]]\n",
            "matrix b:\n",
            "[[1]\n",
            " [2]\n",
            " [4]]\n",
            "matrix ab\n",
            "[[31]\n",
            " [12]\n",
            " [ 9]]\n"
          ]
        }
      ]
    },
    {
      "cell_type": "code",
      "execution_count": null,
      "metadata": {
        "colab": {
          "base_uri": "https://localhost:8080/"
        },
        "id": "e91geBbxQi2Z",
        "outputId": "9b0e00cb-2315-48b7-ceda-6ffa125353e8"
      },
      "outputs": [
        {
          "output_type": "stream",
          "name": "stdout",
          "text": [
            "matrix a:\n",
            "[[ 1  2  3]\n",
            " [-1  2  1]\n",
            " [ 1  3  2]]\n",
            "-7.999999999999998\n"
          ]
        }
      ],
      "source": [
        "import numpy as np\n",
        "#4)\n",
        "a = np.array([[1,2,3,4],[-1,2,1],[1,3,2]])\n",
        "print (\"matrix a:\")\n",
        "print ( a)\n",
        "a_det = np.linalg.det(a)\n",
        "print (a_det)\n",
        "\n"
      ]
    },
    {
      "cell_type": "code",
      "source": [
        "#5)\n",
        "import numpy as np\n",
        "b = np.matrix([[1,2,3,4,],[-2,1,-4,3],[3,-4,-1,2],[4,3,-2,-1]])\n",
        "print (\"matrix b:\")\n",
        "print (b)\n",
        "b_det = np.linalg.det(b)\n",
        "print (b_det)\n",
        "\n"
      ],
      "metadata": {
        "colab": {
          "base_uri": "https://localhost:8080/"
        },
        "id": "JfMqHraTYxpQ",
        "outputId": "ff1f82d3-8b11-4638-f8ed-08c0d707ffbe"
      },
      "execution_count": null,
      "outputs": [
        {
          "output_type": "stream",
          "name": "stdout",
          "text": [
            "matrix b:\n",
            "[[ 1  2  3  4]\n",
            " [-2  1 -4  3]\n",
            " [ 3 -4 -1  2]\n",
            " [ 4  3 -2 -1]]\n",
            "900.0000000000009\n"
          ]
        }
      ]
    },
    {
      "cell_type": "code",
      "source": [
        "# 6)\n",
        "import numpy as np\n",
        "b = np.matrix([[1,1,1,1],[1,1,-1,-1],[1,-1,1,-1],[1,-1,-1,1]])\n",
        "print (\"matrix b:\")\n",
        "print (b)\n",
        "b_inv = np.linalg.inv(b)\n",
        "print(\"inversed \")\n",
        "print (b_inv)"
      ],
      "metadata": {
        "colab": {
          "base_uri": "https://localhost:8080/"
        },
        "id": "YC0Fa8vWZxbJ",
        "outputId": "b8551d28-c101-410f-899b-a9ded6263194"
      },
      "execution_count": null,
      "outputs": [
        {
          "output_type": "stream",
          "name": "stdout",
          "text": [
            "matrix b:\n",
            "[[ 1  1  1  1]\n",
            " [ 1  1 -1 -1]\n",
            " [ 1 -1  1 -1]\n",
            " [ 1 -1 -1  1]]\n",
            "inversed \n",
            "[[ 0.25  0.25  0.25  0.25]\n",
            " [ 0.25  0.25 -0.25 -0.25]\n",
            " [ 0.25 -0.25  0.25 -0.25]\n",
            " [ 0.25 -0.25 -0.25  0.25]]\n"
          ]
        }
      ]
    },
    {
      "cell_type": "code",
      "source": [
        "#7)\n",
        "import numpy as np\n",
        "r = np.matrix([[-2,3,1,-1],[3,2,1,4],[1,2,3,4],[0,2,3,3]])\n",
        "print (\"matrix r:\")\n",
        "print (r)\n",
        "rank = np.linalg.matrix_rank(r)\n",
        "print (rank)\n"
      ],
      "metadata": {
        "colab": {
          "base_uri": "https://localhost:8080/"
        },
        "id": "ky4-apcobDOt",
        "outputId": "beddb5ec-dbfb-4fd1-80b5-64dad7f7dbc1"
      },
      "execution_count": null,
      "outputs": [
        {
          "output_type": "stream",
          "name": "stdout",
          "text": [
            "matrix r:\n",
            "[[-2  3  1 -1]\n",
            " [ 3  2  1  4]\n",
            " [ 1  2  3  4]\n",
            " [ 0  2  3  3]]\n",
            "3\n"
          ]
        }
      ]
    },
    {
      "cell_type": "code",
      "source": [
        "#8)матричний метод\n",
        "import numpy as np\n",
        "a = np.matrix([[1,1,-1,],[3,-1,2],[4,4,-3]])\n",
        "b = np.matrix([[-2],[9],[-5]])\n",
        "print (\"matrix A:\")\n",
        "print (a)\n",
        "print (\"matrix B:\")\n",
        "print (b)\n",
        "a_inv = np.linalg.inv(a)\n",
        "print (\"matrix A_inv:\")\n",
        "print (a_inv)\n",
        "x = a_inv.dot(b)\n",
        "print (\"x:\")\n",
        "print (x)"
      ],
      "metadata": {
        "colab": {
          "base_uri": "https://localhost:8080/"
        },
        "id": "u9QxBxdPcp5F",
        "outputId": "b01119f2-c2ed-4dd0-e2f0-42591db6cb32"
      },
      "execution_count": null,
      "outputs": [
        {
          "output_type": "stream",
          "name": "stdout",
          "text": [
            "matrix A:\n",
            "[[ 1  1 -1]\n",
            " [ 3 -1  2]\n",
            " [ 4  4 -3]]\n",
            "matrix B:\n",
            "[[-2]\n",
            " [ 9]\n",
            " [-5]]\n",
            "matrix A_inv:\n",
            "[[ 1.25  0.25 -0.25]\n",
            " [-4.25 -0.25  1.25]\n",
            " [-4.   -0.    1.  ]]\n",
            "x:\n",
            "[[1.]\n",
            " [0.]\n",
            " [3.]]\n"
          ]
        }
      ]
    },
    {
      "cell_type": "code",
      "source": [
        "import numpy as np\n",
        "# 8)метод Крамера\n",
        "a = np.matrix([[1,1,-1,],[3,-1,2],[4,4,-3]])\n",
        "b = np.matrix([[-2],[9],[-5]])\n",
        "def kram(a,b):\n",
        "    det_a = np.linalg.det(a)\n",
        "    if det_a != 0:\n",
        "       a1 = np.matrix(a)\n",
        "       a2 = np.matrix(a)\n",
        "       a3 = np.matrix(a)\n",
        "       a1[:, 0] = b\n",
        "       a2[:, 1] = b\n",
        "       a3[:, 2] = b\n",
        "       x = np.linalg.det(a1)/det_a\n",
        "       y =np.linalg.det(a2)/det_a\n",
        "       z= np.linalg.det(a3)/det_a\n",
        "       print('Solving a system of linear algebraic equations by Cramer*s method')\n",
        "       print('x=',x.round(3),'y=',y.round(3),'z=',z.round(3))\n",
        "    else:\n",
        "        print('Determinant equals zero, the system has no solutions')\n",
        "    return x,y,z\n",
        "kram(a,b)\n",
        "s= np.linalg.solve(a,b).round(3)\n",
        "print (s)\n"
      ],
      "metadata": {
        "colab": {
          "base_uri": "https://localhost:8080/"
        },
        "id": "ckZ-maEvdw8O",
        "outputId": "fa4ac787-141a-43e2-f218-d409ec8fb928"
      },
      "execution_count": null,
      "outputs": [
        {
          "output_type": "stream",
          "name": "stdout",
          "text": [
            "Solving a system of linear algebraic equations by Cramer*s method\n",
            "x= 1.0 y= -0.0 z= 3.0\n",
            "[[ 1.]\n",
            " [-0.]\n",
            " [ 3.]]\n"
          ]
        }
      ]
    },
    {
      "cell_type": "code",
      "source": [
        "import numpy as np\n",
        "import random\n",
        "\n",
        "m = input('m = ')\n",
        "n = input('n = ')\n",
        "\n",
        "m = int(m)\n",
        "n = int(n)\n",
        "\n",
        "matrix = [ [random.randint(1, 11) for j in range(n)] for i in range(m) ]\n",
        "print ('matrix : ')\n",
        "for i in range(m):\n",
        "  print (matrix[i])\n",
        "\n",
        "sum_matrix = sum( matrix[i][j] for i in range(m) for j in range(n))\n",
        "print (\"the sum of all matrix elements =  \", sum_matrix)"
      ],
      "metadata": {
        "colab": {
          "base_uri": "https://localhost:8080/"
        },
        "id": "zKy1lu4pOrS9",
        "outputId": "3bb1d3f8-8090-4a67-a66a-10f043f3490c"
      },
      "execution_count": null,
      "outputs": [
        {
          "output_type": "stream",
          "name": "stdout",
          "text": [
            "m = 2\n",
            "n = 2\n",
            "matrix : \n",
            "[11, 4]\n",
            "[5, 5]\n",
            "the sum of all matrix elements =   25\n"
          ]
        }
      ]
    }
  ]
}