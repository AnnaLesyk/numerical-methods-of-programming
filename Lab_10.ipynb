{
  "nbformat": 4,
  "nbformat_minor": 0,
  "metadata": {
    "colab": {
      "provenance": [],
      "authorship_tag": "ABX9TyOCjF4tvuFJoqMCmwQitZsh",
      "include_colab_link": true
    },
    "kernelspec": {
      "name": "python3",
      "display_name": "Python 3"
    },
    "language_info": {
      "name": "python"
    }
  },
  "cells": [
    {
      "cell_type": "markdown",
      "metadata": {
        "id": "view-in-github",
        "colab_type": "text"
      },
      "source": [
        "<a href=\"https://colab.research.google.com/github/AnnaLesyk/numerical-methods-of-programming/blob/main/Lab_10.ipynb\" target=\"_parent\"><img src=\"https://colab.research.google.com/assets/colab-badge.svg\" alt=\"Open In Colab\"/></a>"
      ]
    },
    {
      "cell_type": "markdown",
      "source": [
        "Лабораторна робота №10\n",
        "Виконала студентка ФІТ 3-14\n",
        "Лесик Анна Сергіївна\n",
        "Варіант №16"
      ],
      "metadata": {
        "id": "Fz3yApD9aaoa"
      }
    },
    {
      "cell_type": "code",
      "source": [
        "#Обчислення інтеграла методом прямокутників\n",
        "from scipy import integrate\n",
        "import numpy as np\n",
        "eps = 0.001\n",
        "a = 2.2\n",
        "b = 1.6\n",
        "n = 10\n",
        "def f1(x):\n",
        " return 1/np.sqrt(x + 2.5)\n",
        "def left_rec(f1,a,b,n):\n",
        " h=(b-a)/n\n",
        " sum=0\n",
        " for i in range(0,n):\n",
        "  sum+=f1(a+i*h)\n",
        " return sum*h\n",
        "v,err = integrate.quad(f1,a,b)#Перевірка\n",
        "#Перевірка точності за правилом Рунге:\n",
        "if abs(left_rec(f1,a,b,2*10) - left_rec(f1,a,b,10))/3. <=eps:\n",
        " print(\"left rectangle:\",round (left_rec(f1,a,b,10), 5))\n",
        "def right_rec(f1,a,b,n):\n",
        " h=(b-a)/n\n",
        " sum=0\n",
        " for i in range(1,n+1):\n",
        "  sum+=f1(a+i*h)\n",
        " return sum*h\n",
        "print(\"right rectangle:\",round (right_rec(f1,a,b,10), 5))\n",
        "def aver_rec(f1,a,b,n):\n",
        " h=0.08\n",
        " sum=0\n",
        " for i in range(0,n):\n",
        "  sum+=f1(a+i*h)\n",
        " return sum*h\n",
        "print(\"average rectangle:\",round (aver_rec(f1,a,b,10), 5))\n",
        "print(\"Check for the rectangle method= \",round (v, 5))\n"
      ],
      "metadata": {
        "colab": {
          "base_uri": "https://localhost:8080/"
        },
        "id": "vvVuJp_qbClK",
        "outputId": "20ecc3c7-5429-4e26-c73b-946ca4fcec10"
      },
      "execution_count": null,
      "outputs": [
        {
          "output_type": "stream",
          "name": "stdout",
          "text": [
            "left rectangle: -0.28523\n",
            "right rectangle: -0.28719\n",
            "average rectangle: 0.35592\n",
            "Check for the rectangle method=  -0.28621\n"
          ]
        }
      ]
    },
    {
      "cell_type": "code",
      "source": [
        "#Обчислення інтеграла методом Симпсона\n",
        "from scipy import integrate\n",
        "import numpy as np\n",
        "# Задаємо функцію, яку необхідно інтегрувати\n",
        "def f(x):\n",
        " return ((x**2) + 1) * np.sin(x - 0.5)\n",
        "# Задаємо межі інтегрування та початкову кількість розбиттів\n",
        "a = 2.1\n",
        "b = 1.3\n",
        "n = 8\n",
        "# Обчислюємо значення інтегралу методом Симпсона\n",
        "def simpson_rule(f, a, b, n):\n",
        " h = (b - a) / n\n",
        " integr = f(a) + f(b)\n",
        " for i in range(1,n):\n",
        "  k = a + i*h\n",
        "  if i%2 == 0:\n",
        "    integr += 2 * f(k)\n",
        " else:\n",
        "  integr += 4 * f(k)\n",
        " integr *= h/3\n",
        " return integr\n",
        "# Обчислюємо значення інтегралу методом Сімпсона з точністю 0.001\n",
        "integral1 = simpson_rule(f, a, b, n)\n",
        "n *= 2\n",
        "integral2 = simpson_rule(f, a, b, n)\n",
        "while abs(integral2 - integral1) / 15 > 0.001:\n",
        " integral1 = integral2\n",
        " n *= 2\n",
        " integral2 = simpson_rule(f, a, b, n)\n",
        "# Виводимо результат\n",
        "print(\"Simpsone method:\", round(integral2, 3))\n",
        "v,err = integrate.quad(f,a,b)#Перевірка\n",
        "print(\"Check for the Simpsone method= \",round(v, 3))"
      ],
      "metadata": {
        "colab": {
          "base_uri": "https://localhost:8080/"
        },
        "id": "QDgARP35bdIw",
        "outputId": "5a1a2cbc-8f5f-4f84-f0e7-2e3c51768b25"
      },
      "execution_count": null,
      "outputs": [
        {
          "output_type": "stream",
          "name": "stdout",
          "text": [
            "Simpsone method: -0.979\n",
            "Check for the Simpsone method=  -2.913\n"
          ]
        }
      ]
    },
    {
      "cell_type": "code",
      "execution_count": null,
      "metadata": {
        "colab": {
          "base_uri": "https://localhost:8080/"
        },
        "id": "GoyVu7Y2aV1O",
        "outputId": "3d71c00b-3ef6-4bfb-bab9-0fdea430b7b8"
      },
      "outputs": [
        {
          "output_type": "stream",
          "name": "stdout",
          "text": [
            "Trapetzia methodof: -0.417\n",
            "Check for the trapetzia method=  0.19465\n"
          ]
        }
      ],
      "source": [
        "#Обчислення інтегралу методом трапецій\n",
        "from scipy import integrate\n",
        "import numpy as np\n",
        "# Задаємо функцію, яку необхідно інтегрувати\n",
        "def f(x):\n",
        " return 1 / np.sqrt( x**2 + 4)\n",
        "# Задаємо межі інтегрування та початкову кількість розбиттів\n",
        "a = 1.8\n",
        "b = 0.8\n",
        "n = 20\n",
        "# Обчислюємо значення інтегралу методом трапецій\n",
        "def trapezoidal_rule(f, a, b, n):\n",
        " h = (b - a) / n\n",
        " x = a\n",
        " sum = 0\n",
        " for i in range(1, n):\n",
        "  x += h\n",
        "  sum += 2 * f(x)\n",
        " sum += f(b)\n",
        " integral = h / 2 * sum\n",
        " return integral\n",
        "# Обчислюємо значення інтегралу методом трапецій з точністю 0.001\n",
        "#Перевірка точності за правилом Рунге\n",
        "integral1 = trapezoidal_rule(f, a, b, n)\n",
        "n *= 2\n",
        "integral2 = trapezoidal_rule(f, a, b, n)\n",
        "while abs(integral2 - integral1) / 3 > 0.001:\n",
        " integral1 = integral2\n",
        " n *= 2\n",
        " integral2 = trapezoidal_rule(f, a, b, n)\n",
        "# Виводимо результат\n",
        "print(\"Trapetzia methodof:\", round(integral2, 3))\n",
        "v,err = integrate.quad(f,3.2,4) #Перевірка\n",
        "print(\"Check for the trapetzia method= \",round(v, 5))\n"
      ]
    }
  ]
}