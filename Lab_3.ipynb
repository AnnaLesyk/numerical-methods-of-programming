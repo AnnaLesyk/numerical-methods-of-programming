{
  "nbformat": 4,
  "nbformat_minor": 0,
  "metadata": {
    "colab": {
      "provenance": [],
      "authorship_tag": "ABX9TyPhD4y0+fo3SiNScvi7Xf/n",
      "include_colab_link": true
    },
    "kernelspec": {
      "name": "python3",
      "display_name": "Python 3"
    },
    "language_info": {
      "name": "python"
    }
  },
  "cells": [
    {
      "cell_type": "markdown",
      "metadata": {
        "id": "view-in-github",
        "colab_type": "text"
      },
      "source": [
        "<a href=\"https://colab.research.google.com/github/AnnaLesyk/numerical-methods-of-programming/blob/main/Lab_3.ipynb\" target=\"_parent\"><img src=\"https://colab.research.google.com/assets/colab-badge.svg\" alt=\"Open In Colab\"/></a>"
      ]
    },
    {
      "cell_type": "markdown",
      "source": [
        "Лабораторна робота №3\n",
        "Виконала студентка ФІТ 3-14\n",
        "Лесик Анна"
      ],
      "metadata": {
        "id": "XKgPwAwlsbme"
      }
    },
    {
      "cell_type": "code",
      "source": [
        "# метод Ньютона\n",
        "import numpy as np\n",
        "import math\n",
        "from scipy.misc import derivative\n",
        "def f(x):\n",
        "    return 2*pow(x,4) - 2*pow(x,3) - 4*pow(x,2) + 6*x + 5\n",
        "a = -1   #rounding from -1.24564\n",
        "b = 0   #rounding from -0.70102\n",
        "\n",
        "eps = 0.0001 #precision\n",
        "\n",
        "def nuton (a,b, eps):\n",
        "    df = derivative(f, b, n = 2)\n",
        "    if (f(b)*df > 0):\n",
        "        x = b\n",
        "    else :\n",
        "         x = a\n",
        "    df = derivative (f, x, n = 1)\n",
        "    x2 = x - f(x)/df\n",
        "    while (abs(x2 - x)>eps):\n",
        "       x = x2\n",
        "       x2 = x - f(x)/df\n",
        "    return print ( 'Solving the equation by Newton*s method x = ', x2)\n",
        "\n",
        "\n",
        "nuton(a, b, eps)"
      ],
      "metadata": {
        "colab": {
          "base_uri": "https://localhost:8080/"
        },
        "id": "i_XiBFW4q-PP",
        "outputId": "20275e02-3735-49d1-bd63-13fd30580138"
      },
      "execution_count": 1,
      "outputs": [
        {
          "output_type": "stream",
          "name": "stdout",
          "text": [
            "Solving the equation by Newton*s method x =  -1.2456081204004996\n"
          ]
        },
        {
          "output_type": "stream",
          "name": "stderr",
          "text": [
            "<ipython-input-1-b6131775db8d>:13: DeprecationWarning: scipy.misc.derivative is deprecated in SciPy v1.10.0; and will be completely removed in SciPy v1.12.0. You may consider using findiff: https://github.com/maroba/findiff or numdifftools: https://github.com/pbrod/numdifftools\n",
            "  df = derivative(f, b, n = 2)\n",
            "<ipython-input-1-b6131775db8d>:18: DeprecationWarning: scipy.misc.derivative is deprecated in SciPy v1.10.0; and will be completely removed in SciPy v1.12.0. You may consider using findiff: https://github.com/maroba/findiff or numdifftools: https://github.com/pbrod/numdifftools\n",
            "  df = derivative (f, x, n = 1)\n"
          ]
        }
      ]
    },
    {
      "cell_type": "code",
      "execution_count": null,
      "metadata": {
        "colab": {
          "base_uri": "https://localhost:8080/"
        },
        "id": "3d9IR48KrQG1",
        "outputId": "3655cf49-6132-4ecb-b481-5bc079230412"
      },
      "outputs": [
        {
          "output_type": "stream",
          "name": "stdout",
          "text": [
            "Solving the equation by the combined method x =  -1.2455796436530402\n"
          ]
        },
        {
          "output_type": "stream",
          "name": "stderr",
          "text": [
            "<ipython-input-19-e4f847c3e483>:12: DeprecationWarning: scipy.misc.derivative is deprecated in SciPy v1.10.0; and will be completely removed in SciPy v1.12.0. You may consider using findiff: https://github.com/maroba/findiff or numdifftools: https://github.com/pbrod/numdifftools\n",
            "  if (derivative(f, a, n = 1)*derivative(f, a, n = 2)>0):\n",
            "<ipython-input-19-e4f847c3e483>:23: DeprecationWarning: scipy.misc.derivative is deprecated in SciPy v1.10.0; and will be completely removed in SciPy v1.12.0. You may consider using findiff: https://github.com/maroba/findiff or numdifftools: https://github.com/pbrod/numdifftools\n",
            "  bi_1 = bi - f(bi)/derivative(f,bi, n= 1)\n"
          ]
        }
      ],
      "source": [
        "# Комбінований метод\n",
        "import numpy as np\n",
        "import math\n",
        "from scipy.misc import derivative\n",
        "def f(x):\n",
        "    return 2*pow(x,4) - 2*pow(x,3) - 4*pow(x,2) + 6*x + 5\n",
        "a = -1   #rounding from -1.24564\n",
        "b = 0   #rounding from -0.70102\n",
        "\n",
        "eps = 0.0001 #precision\n",
        "\n",
        "def komb(a,b,eps):\n",
        "    if (derivative(f, a, n = 1)*derivative(f, a, n = 2)>0):\n",
        "        a0 = a\n",
        "        b0 = b\n",
        "\n",
        "    else:\n",
        "        a0 = b\n",
        "        b0 = a\n",
        "    ai = a0\n",
        "    bi = b0\n",
        "    while abs(ai-bi)>eps:\n",
        "        ai_1 = ai -f(ai)*(bi - ai)/(f(bi) - f(ai))\n",
        "        bi_1 = bi - f(bi)/derivative(f,bi, n= 1)\n",
        "        ai = ai_1\n",
        "        bi = bi_1\n",
        "    x = (ai_1+bi_1)/2\n",
        "\n",
        "    return print('Solving the equation by the combined method x = ', x)\n",
        "komb(a, b, eps)\n",
        "\n",
        "\n"
      ]
    }
  ]
}