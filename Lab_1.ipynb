{
  "nbformat": 4,
  "nbformat_minor": 0,
  "metadata": {
    "colab": {
      "provenance": [],
      "authorship_tag": "ABX9TyPdKnfxvG1KXv2Ffem/rTAK",
      "include_colab_link": true
    },
    "kernelspec": {
      "name": "python3",
      "display_name": "Python 3"
    },
    "language_info": {
      "name": "python"
    }
  },
  "cells": [
    {
      "cell_type": "markdown",
      "metadata": {
        "id": "view-in-github",
        "colab_type": "text"
      },
      "source": [
        "<a href=\"https://colab.research.google.com/github/AnnaLesyk/numerical-methods-of-programming/blob/main/Lab_1.ipynb\" target=\"_parent\"><img src=\"https://colab.research.google.com/assets/colab-badge.svg\" alt=\"Open In Colab\"/></a>"
      ]
    },
    {
      "cell_type": "markdown",
      "source": [
        "Лабораторна робота №1\n",
        "Виконала студентка ФІТ 3-14\n",
        "Лесик Анна"
      ],
      "metadata": {
        "id": "1A1jjOJfjVC8"
      }
    },
    {
      "cell_type": "code",
      "execution_count": null,
      "metadata": {
        "colab": {
          "base_uri": "https://localhost:8080/"
        },
        "id": "HBC5a_sZmaum",
        "outputId": "90e70e2e-fc69-4ba6-caf4-2b3703dc07c7"
      },
      "outputs": [
        {
          "output_type": "stream",
          "name": "stdout",
          "text": [
            " The second equality more accurate with a relative error - > 0.00019999999999997797\n"
          ]
        }
      ],
      "source": [
        "import math\n",
        "\n",
        "#\n",
        "x1 = 38  #sqrt(x1)\n",
        "x2 = 5/3\n",
        "\n",
        "#\n",
        "X1_x1 = 6.16\n",
        "X2_x2 = 1.667\n",
        "\n",
        "def func( x1, X1_x1, x2, X2_x2):\n",
        "  equality_1 = abs(math.sqrt(x1) - X1_x1) / abs(math.sqrt(x1))\n",
        "  equality_2 = abs(x2 - X2_x2) / abs(x2)\n",
        "\n",
        "  if equality_1 < equality_2:\n",
        "    print ( \" The first equality more accurate with a relative error - >\", equality_1)\n",
        "  if equality_1 > equality_2:\n",
        "    print ( \" The second equality more accurate with a relative error - >\", equality_2)\n",
        "\n",
        "\n",
        "func( x1, X1_x1, x2, X2_x2)\n"
      ]
    }
  ]
}