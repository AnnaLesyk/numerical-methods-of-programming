{
  "nbformat": 4,
  "nbformat_minor": 0,
  "metadata": {
    "colab": {
      "provenance": [],
      "authorship_tag": "ABX9TyM1uWjWQcFnxw7moj1RhGgM",
      "include_colab_link": true
    },
    "kernelspec": {
      "name": "python3",
      "display_name": "Python 3"
    },
    "language_info": {
      "name": "python"
    }
  },
  "cells": [
    {
      "cell_type": "markdown",
      "metadata": {
        "id": "view-in-github",
        "colab_type": "text"
      },
      "source": [
        "<a href=\"https://colab.research.google.com/github/AnnaLesyk/numerical-methods-of-programming/blob/main/Lab_2.ipynb\" target=\"_parent\"><img src=\"https://colab.research.google.com/assets/colab-badge.svg\" alt=\"Open In Colab\"/></a>"
      ]
    },
    {
      "cell_type": "markdown",
      "source": [
        "Лабораторна робота №2\n",
        "Виконала студентка ФІТ 3-14\n",
        "Лесик Анна\n",
        "\n"
      ],
      "metadata": {
        "id": "_rR3kQfdp1jO"
      }
    },
    {
      "cell_type": "code",
      "source": [
        "import math\n",
        "import numpy as np\n",
        "from scipy.misc import derivative\n",
        "def f(x):\n",
        "  return 2*pow(x, 4) - 2*pow(x, 3) - 4*pow(x, 2) + 6*x + 5\n",
        "eps = 0.0001\n",
        "\n",
        "def find_segment():\n",
        "    search_range = np.arange(-10, 10, 1)\n",
        "    a = None\n",
        "    previous_x = None\n",
        "    current_x = None\n",
        "    segments = []\n",
        "\n",
        "    for x in search_range:\n",
        "        x = round (x, 4)\n",
        "        current_x = f(x)\n",
        "        if previous_x != None and previous_x * current_x < 0:\n",
        "            segments.append((a, x))\n",
        "        a = x\n",
        "        previous_x = current_x\n",
        "    return segments\n",
        "\n",
        "segments = find_segment()\n",
        "for a, b in segments:\n",
        "     print(f'Found segment: [ {a}, {b}]')\n",
        ""
      ],
      "metadata": {
        "colab": {
          "base_uri": "https://localhost:8080/"
        },
        "id": "bvr5B2I6mVyD",
        "outputId": "8680a3a0-1c99-4713-a15e-0d8a82a13739"
      },
      "execution_count": 6,
      "outputs": [
        {
          "output_type": "stream",
          "name": "stdout",
          "text": [
            "Found segment: [ -2, -1]\n",
            "Found segment: [ -1, 0]\n"
          ]
        }
      ]
    },
    {
      "cell_type": "code",
      "source": [
        "#метод половинного ділення\n",
        "\n",
        "import math\n",
        "import numpy as np\n",
        "from scipy.misc import derivative\n",
        "\n",
        "eps=0.0001\n",
        "\n",
        "\n",
        "def rec(a, b, eps):\n",
        "  while (abs(a-b) > eps):\n",
        "      if f(a)*f((a+b)/2)<0:\n",
        "         b = (a+b)/2\n",
        "      else:\n",
        "          a = (a+b)/2\n",
        "      x = (a+b)/2\n",
        "  print ('x= ', round(x,5), ' - метод половинного ділення')\n",
        "\n",
        "rec(-2,-1,eps) # для першого відрізку\n",
        "rec(-1,0,eps) # для другого відрізку\n",
        ""
      ],
      "metadata": {
        "id": "wWhgBtCtksDD"
      },
      "execution_count": null,
      "outputs": []
    },
    {
      "cell_type": "code",
      "source": [
        "#метод хорд\n",
        "\n",
        "import math\n",
        "import numpy as np\n",
        "from scipy.misc import derivative\n",
        "\n",
        "eps=0.0001\n",
        "\n",
        "def hord (a,b,eps): #метод хорд\n",
        "    if (f(a)*derivative(f,a,n=2)>0):\n",
        "        x0=a\n",
        "        xi=b\n",
        "    else:\n",
        "        x0=b\n",
        "        xi=a\n",
        "    xi_1=xi-(xi-x0)*f(xi)/(f(xi)-f(x0))\n",
        "    while (abs(xi_1-xi)>eps):\n",
        "        xi=xi_1\n",
        "        xi_1=xi-(xi-x0)*f(xi)/(f(xi)-f(x0))\n",
        "    print('x= ', round (xi_1,5) , ' -  метод хорд')\n",
        "\n",
        "print (f'Solution of a nonlinear equation on a segment [{a}, {b}]')\n",
        "\n",
        "\n",
        "hord (-2,-1,eps) #викликаємо метод хорд для першого відрізка [-2, -1]\n",
        "hord (-1,0,eps)#викликаємо метод хорд для другого відрізку [ -1, 0]\n"
      ],
      "metadata": {
        "colab": {
          "base_uri": "https://localhost:8080/"
        },
        "id": "FKrsftRzLiiS",
        "outputId": "8ce75ffd-ee05-4769-d763-172bed342abe"
      },
      "execution_count": null,
      "outputs": [
        {
          "output_type": "stream",
          "name": "stdout",
          "text": [
            "Solution of a nonlinear equation on a segment [-1, 0]\n",
            "x=  -1.2454  -  метод хорд\n",
            "x=  -0.70106  -  метод хорд\n"
          ]
        },
        {
          "output_type": "stream",
          "name": "stderr",
          "text": [
            "<ipython-input-20-cfb47ec41937>:8: DeprecationWarning: scipy.misc.derivative is deprecated in SciPy v1.10.0; and will be completely removed in SciPy v1.12.0. You may consider using findiff: https://github.com/maroba/findiff or numdifftools: https://github.com/pbrod/numdifftools\n",
            "  if (f(a)*derivative(f,a,n=2)>0):\n"
          ]
        }
      ]
    }
  ]
}